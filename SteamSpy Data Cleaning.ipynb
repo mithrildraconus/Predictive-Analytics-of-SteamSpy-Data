{
 "cells": [
  {
   "cell_type": "code",
   "execution_count": 1,
   "metadata": {},
   "outputs": [
    {
     "name": "stdout",
     "output_type": "stream",
     "text": [
      "         Unnamed: 0         appid  score_rank      positive       negative  \\\n",
      "count  3.672600e+04  3.672600e+04   46.000000  3.672600e+04   36726.000000   \n",
      "mean   7.093357e+05  7.093357e+05   98.434783  1.196106e+03     218.586859   \n",
      "std    3.208498e+05  3.208498e+05    1.167184  2.467580e+04    5047.936029   \n",
      "min    1.000000e+01  1.000000e+01   96.000000  0.000000e+00       0.000000   \n",
      "25%    4.513525e+05  4.513525e+05   98.000000  6.000000e+00       2.000000   \n",
      "50%    7.073450e+05  7.073450e+05   98.000000  2.200000e+01       8.000000   \n",
      "75%    9.678050e+05  9.678050e+05   99.750000  1.230000e+02      38.000000   \n",
      "max    1.351560e+06  1.351560e+06  100.000000  3.978341e+06  686346.000000   \n",
      "\n",
      "          userscore  average_forever  average_2weeks  median_forever  \\\n",
      "count  36726.000000     36726.000000    36726.000000    36726.000000   \n",
      "mean       0.095818       155.135027       10.263301      142.477918   \n",
      "std        2.765241      4132.896082      188.298507     4128.346651   \n",
      "min        0.000000         0.000000        0.000000        0.000000   \n",
      "25%        0.000000         0.000000        0.000000        0.000000   \n",
      "50%        0.000000         0.000000        0.000000        0.000000   \n",
      "75%        0.000000        23.000000        0.000000       24.000000   \n",
      "max      100.000000    760217.000000    19366.000000   760217.000000   \n",
      "\n",
      "       median_2weeks         price  initialprice      discount  \n",
      "count   36726.000000  36697.000000  36704.000000  36704.000000  \n",
      "mean       10.886919    485.626454    802.375763     31.381947  \n",
      "std       194.373522   1003.041866   1247.483710     32.041530  \n",
      "min         0.000000      0.000000      0.000000      0.000000  \n",
      "25%         0.000000     75.000000    199.000000      0.000000  \n",
      "50%         0.000000    249.000000    499.000000     25.000000  \n",
      "75%         0.000000    599.000000    999.000000     60.000000  \n",
      "max     19366.000000  99900.000000  99900.000000    255.000000  \n",
      "\n",
      "\n",
      "\n",
      "         name        developer       publisher       owners\n",
      "count   36717            36552           36454        36726\n",
      "unique  36611            23105           19607           13\n",
      "top      none  Choice of Games  Big Fish Games  0 .. 20,000\n",
      "freq        3              116             320        26091\n"
     ]
    }
   ],
   "source": [
    "import pandas as pd\n",
    "import numpy as np\n",
    "\n",
    "steamspy_data = pd.read_csv('C:/Users/mithr/Desktop/Data Science Masters/DSC 630/Term Project/SteamSpy Data 7-2-20.csv')\n",
    "steamspy_data = pd.DataFrame(steamspy_data)\n",
    "print(steamspy_data.describe())\n",
    "print(\"\\n\\n\")\n",
    "print(steamspy_data.describe(include=['O']))"
   ]
  },
  {
   "cell_type": "code",
   "execution_count": null,
   "metadata": {},
   "outputs": [],
   "source": [
    "publisher_counts = steamspy_data['publisher'].value_counts()\n",
    "publisher_counts = publisher_counts.to_dict()\n",
    "steamspy_data['publisher_counts'] = steamspy_data['publisher'].map(publisher_counts)\n",
    "print(steamspy_data)"
   ]
  },
  {
   "cell_type": "code",
   "execution_count": null,
   "metadata": {},
   "outputs": [],
   "source": [
    "steamspy_data.loc[steamspy_data.publisher_counts < 20, 'publisher'] = \"Other\"\n",
    "print(steamspy_data.describe())\n",
    "print(\"\\n\\n\")\n",
    "print(steamspy_data.describe(include=['O']))"
   ]
  },
  {
   "cell_type": "code",
   "execution_count": null,
   "metadata": {},
   "outputs": [],
   "source": [
    "steamspy_data.to_csv('SteamSpy Data 7-2-20 (cleaned).csv')"
   ]
  }
 ],
 "metadata": {
  "kernelspec": {
   "display_name": "Python 3",
   "language": "python",
   "name": "python3"
  },
  "language_info": {
   "codemirror_mode": {
    "name": "ipython",
    "version": 3
   },
   "file_extension": ".py",
   "mimetype": "text/x-python",
   "name": "python",
   "nbconvert_exporter": "python",
   "pygments_lexer": "ipython3",
   "version": "3.7.4"
  }
 },
 "nbformat": 4,
 "nbformat_minor": 2
}
