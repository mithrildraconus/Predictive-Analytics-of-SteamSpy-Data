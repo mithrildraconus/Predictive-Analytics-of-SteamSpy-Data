{
 "cells": [
  {
   "cell_type": "code",
   "execution_count": null,
   "metadata": {},
   "outputs": [],
   "source": [
    "import time\n",
    "import urllib.request, urllib.parse\n",
    "from urllib.error import HTTPError, URLError\n",
    "import json\n",
    "import numpy as np\n",
    "import pandas as pd\n",
    "import pprint as pp\n",
    "import requests\n",
    "import csv\n",
    "import datetime as dt\n",
    "import os\n",
    "import statistics\n",
    "\n",
    "pd.set_option(\"max_columns\", 100)\n",
    "\n",
    "def get_request(url, parameters=None):\n",
    "    try:\n",
    "        response = requests.get(url=url, params=parameters)\n",
    "    except SSLError as s:\n",
    "        print('SSL Error:', s)\n",
    "        \n",
    "        for i in range(5, 0, -1):\n",
    "            print('\\rWaiting... ({})'.format(i), end='')\n",
    "            time.sleep(1)\n",
    "        print('\\rRetrying.' + ' '*10)\n",
    "        return get_request(url, parameters)\n",
    "    \n",
    "    if response:\n",
    "        return response.json()\n",
    "    else:\n",
    "        print('No response, waiting 30 seconds...')\n",
    "        time.sleep(30)\n",
    "        print('Retrying.')\n",
    "        return get_request(url, parameters)\n",
    "    \n",
    "url = \"https://steamspy.com/api.php\"\n",
    "parameters = {\"request\": \"all\"}\n",
    "\n",
    "json_data = get_request(url, parameters=parameters)\n",
    "steamspy_all = pd.DataFrame.from_dict(json_data, orient='index')\n",
    "\n",
    "steamspy_all.to_csv('SteamSpy Data 7-18-20.csv')"
   ]
  }
 ],
 "metadata": {
  "kernelspec": {
   "display_name": "Python 3",
   "language": "python",
   "name": "python3"
  },
  "language_info": {
   "codemirror_mode": {
    "name": "ipython",
    "version": 3
   },
   "file_extension": ".py",
   "mimetype": "text/x-python",
   "name": "python",
   "nbconvert_exporter": "python",
   "pygments_lexer": "ipython3",
   "version": "3.7.4"
  }
 },
 "nbformat": 4,
 "nbformat_minor": 2
}
