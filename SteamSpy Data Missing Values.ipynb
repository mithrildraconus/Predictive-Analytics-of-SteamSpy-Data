{
 "cells": [
  {
   "cell_type": "code",
   "execution_count": null,
   "metadata": {},
   "outputs": [],
   "source": [
    "import pandas as pd\n",
    "import numpy as np\n",
    "\n",
    "steamspy_data = pd.read_csv('C:/Users/mithr/Desktop/Data Science Masters/DSC 630/Term Project/SteamSpy Data 7-18-20 (cleaned).csv')\n",
    "steamspy_data = pd.DataFrame(steamspy_data)\n",
    "steamspy_data.isnull().sum()"
   ]
  },
  {
   "cell_type": "code",
   "execution_count": null,
   "metadata": {},
   "outputs": [],
   "source": [
    "steamspy_data = steamspy_data.drop('score_rank', axis='columns')\n",
    "steamspy_data = steamspy_data.dropna(how='any')\n",
    "print(steamspy_data.describe())\n",
    "print(\"\\n\\n\")\n",
    "print(steamspy_data.describe(include=['O']))"
   ]
  },
  {
   "cell_type": "code",
   "execution_count": null,
   "metadata": {},
   "outputs": [],
   "source": [
    "steamspy_data.to_csv('SteamSpy Data 7-18-20 (cleaned).csv')"
   ]
  }
 ],
 "metadata": {
  "kernelspec": {
   "display_name": "Python 3",
   "language": "python",
   "name": "python3"
  },
  "language_info": {
   "codemirror_mode": {
    "name": "ipython",
    "version": 3
   },
   "file_extension": ".py",
   "mimetype": "text/x-python",
   "name": "python",
   "nbconvert_exporter": "python",
   "pygments_lexer": "ipython3",
   "version": "3.7.4"
  }
 },
 "nbformat": 4,
 "nbformat_minor": 2
}
