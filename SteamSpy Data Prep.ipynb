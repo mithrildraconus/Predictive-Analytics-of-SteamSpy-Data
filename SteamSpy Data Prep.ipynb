{
 "cells": [
  {
   "cell_type": "code",
   "execution_count": 1,
   "metadata": {},
   "outputs": [
    {
     "name": "stdout",
     "output_type": "stream",
     "text": [
      "         Unnamed: 0  Unnamed: 0.1  Unnamed: 0.1.1         appid      positive  \\\n",
      "count  36806.000000  36806.000000    3.680600e+04  3.680600e+04  3.680600e+04   \n",
      "mean   18519.447346  18519.447346    7.161147e+05  7.161147e+05  1.212736e+03   \n",
      "std    10690.777133  10690.777133    3.234511e+05  3.234511e+05  2.494048e+04   \n",
      "min        0.000000      0.000000    1.000000e+01  1.000000e+01  0.000000e+00   \n",
      "25%     9266.250000   9266.250000    4.554500e+05  4.554500e+05  5.000000e+00   \n",
      "50%    18523.500000  18523.500000    7.136300e+05  7.136300e+05  2.300000e+01   \n",
      "75%    27778.750000  27778.750000    9.767675e+05  9.767675e+05  1.230000e+02   \n",
      "max    37071.000000  37071.000000    1.368060e+06  1.368060e+06  4.022436e+06   \n",
      "\n",
      "            negative     userscore  average_forever  average_2weeks  \\\n",
      "count   36806.000000  36806.000000     36806.000000    36806.000000   \n",
      "mean      219.908439      0.095609       148.434766       13.912460   \n",
      "std      5091.093037      2.762238      1585.726805      240.864096   \n",
      "min         0.000000      0.000000         0.000000        0.000000   \n",
      "25%         2.000000      0.000000         0.000000        0.000000   \n",
      "50%         8.000000      0.000000         0.000000        0.000000   \n",
      "75%        38.000000      0.000000         7.000000        0.000000   \n",
      "max    692999.000000    100.000000    158345.000000    15605.000000   \n",
      "\n",
      "       median_forever  median_2weeks         price  initialprice  \\\n",
      "count    36806.000000   36806.000000  36806.000000  36806.000000   \n",
      "mean       137.348014      14.946449    777.019372    801.407243   \n",
      "std       1874.731859     253.874411   1223.619370   1239.195165   \n",
      "min          0.000000       0.000000      0.000000      0.000000   \n",
      "25%          0.000000       0.000000     99.000000    199.000000   \n",
      "50%          0.000000       0.000000    499.000000    499.000000   \n",
      "75%          8.000000       0.000000    999.000000    999.000000   \n",
      "max     163994.000000   15605.000000  99900.000000  99900.000000   \n",
      "\n",
      "           discount  publisher_counts  \n",
      "count  36806.000000      36806.000000  \n",
      "mean       3.224121         14.888850  \n",
      "std       14.289065         37.836419  \n",
      "min        0.000000          1.000000  \n",
      "25%        0.000000          1.000000  \n",
      "50%        0.000000          2.000000  \n",
      "75%        0.000000          9.000000  \n",
      "max       90.000000        326.000000  \n",
      "\n",
      "\n",
      "\n",
      "         name        developer publisher       owners\n",
      "count   36806            36806     36806        36806\n",
      "unique  36701            23262       142           13\n",
      "top     Arena  Choice of Games     Other  0 .. 20,000\n",
      "freq        3              117     30519        26101\n"
     ]
    }
   ],
   "source": [
    "import pandas as pd\n",
    "import numpy as np\n",
    "\n",
    "steamspy_data = pd.read_csv('C:/Users/mithr/Desktop/Data Science Masters/DSC 630/Term Project/SteamSpy Data 7-18-20 (cleaned).csv')\n",
    "steamspy_data = pd.DataFrame(steamspy_data)\n",
    "print(steamspy_data.describe())\n",
    "print(\"\\n\\n\")\n",
    "print(steamspy_data.describe(include=['O']))"
   ]
  },
  {
   "cell_type": "code",
   "execution_count": null,
   "metadata": {},
   "outputs": [],
   "source": [
    "steamspy_data = steamspy_data.drop(['Unnamed: 0', 'Unnamed: 0.1', 'Unnamed: 0.1.1', 'appid', 'userscore', 'developer', 'average_forever', 'average_2weeks', 'median_2weeks', 'price'], axis = 'columns')\n",
    "steamspy_data.head()"
   ]
  },
  {
   "cell_type": "code",
   "execution_count": null,
   "metadata": {},
   "outputs": [],
   "source": [
    "steamspy_data.to_csv('SteamSpy Data 7-18-20 (prepped).csv')"
   ]
  }
 ],
 "metadata": {
  "kernelspec": {
   "display_name": "Python 3",
   "language": "python",
   "name": "python3"
  },
  "language_info": {
   "codemirror_mode": {
    "name": "ipython",
    "version": 3
   },
   "file_extension": ".py",
   "mimetype": "text/x-python",
   "name": "python",
   "nbconvert_exporter": "python",
   "pygments_lexer": "ipython3",
   "version": "3.7.4"
  }
 },
 "nbformat": 4,
 "nbformat_minor": 2
}
